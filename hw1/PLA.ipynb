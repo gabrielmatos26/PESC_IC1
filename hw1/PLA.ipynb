{
 "cells": [
  {
   "cell_type": "code",
   "execution_count": 287,
   "metadata": {},
   "outputs": [],
   "source": [
    "import numpy as np\n",
    "import matplotlib.pyplot as plt\n",
    "from tqdm import tqdm\n",
    "%matplotlib notebook"
   ]
  },
  {
   "cell_type": "code",
   "execution_count": 281,
   "metadata": {},
   "outputs": [],
   "source": [
    "def generateData(n=10):\n",
    "    d = np.random.uniform(-1,1,(n,2))\n",
    "    return d\n",
    "\n",
    "def targetFunction(random_pts, points, apply=False):\n",
    "    line_slope = (np.max(random_pts[:,1]) - np.min(random_pts[:,1]))/(np.max(random_pts[:,0]) - np.min(random_pts[:,0]))\n",
    "    \n",
    "    if apply:\n",
    "        points = points.reshape(-1,1)\n",
    "        x2 = line_slope*(points - np.min(random_pts[:,0])) + np.min(random_pts[:,1])\n",
    "        data = np.hstack((points, x2))\n",
    "    else:\n",
    "        x2 = line_slope*(points[:,0] - np.min(random_pts[:,0])) + np.min(random_pts[:,1])\n",
    "        yn = np.array(points[:,1] >= x2, dtype=int).reshape(-1,1)\n",
    "        yn = 2*yn - 1\n",
    "        data = np.hstack((points, yn))\n",
    "    return data\n",
    "\n",
    "def sign(x):\n",
    "    i = 1 if x > 0 else 0 if x == 0 else -1\n",
    "    return i\n",
    "\n",
    "def PLA(x):\n",
    "    x = np.hstack((np.ones((x.shape[0],1)), x))\n",
    "    mis_pts = []\n",
    "    w = np.zeros((1, 3))\n",
    "    \n",
    "    choice = np.random.randint(x.shape[0])\n",
    "    pt = x[choice]\n",
    "    w[0] = w[0] + pt[3]*pt[:3]\n",
    "    for p in x:\n",
    "        if np.int(p[3]) != sign(w[0].dot(p[:3].T)):\n",
    "            mis_pts.append(p)\n",
    "    \n",
    "    it = 1\n",
    "    \n",
    "    while mis_pts:\n",
    "        choice = np.random.randint(len(mis_pts))\n",
    "        pt = mis_pts[choice]\n",
    "        w[0] = w[0] + pt[3]*pt[:3]\n",
    "        mis_pts = []\n",
    "        for p in x:\n",
    "            if np.int(p[3]) != sign(w[0].dot(p[:3].T)):\n",
    "                mis_pts.append(p)\n",
    "        it += 1\n",
    "    return (w[0],it)\n",
    "\n",
    "def run(n, plot=False):\n",
    "    random_pts = np.random.uniform(-1,1,(2,2))\n",
    "    line = targetFunction(random_pts, np.linspace(-1,1,n), apply=True)\n",
    "\n",
    "    data = generateData(n)\n",
    "    data = targetFunction(random_pts, data)\n",
    "    color = {-1:'red', 1:'green'}\n",
    "    p_color = [color[np.int(i)] for i in data[:,-1]]\n",
    "    w,it = PLA(data)\n",
    "\n",
    "    if plot:\n",
    "        plt.title('Target function x Hypothesis')\n",
    "        plt.plot(line[:,0], line[:,1], label='target function')\n",
    "        plt.plot(line[:,0], -(w[1]*line_x + w[0])/w[2], label='hypothesis g')\n",
    "        plt.scatter(data[:,0], data[:,1], c=p_color)\n",
    "        plt.legend(loc='lower right')\n",
    "        plt.show()\n",
    "    return random_pts, w, it\n",
    "\n",
    "def run_prob(n1, n2):\n",
    "    random_pts, w, it = run(n1)\n",
    "    data = generateData(n2)\n",
    "    x1 = data[:,0]\n",
    "    x2 = -(w[1]*x1 + w[0])/w[2]\n",
    "\n",
    "    yn = np.array(data[:,1] >= x2, dtype=int)\n",
    "    yn = 2*yn - 1\n",
    "\n",
    "    fx = targetFunction(random_pts, data)[:,-1]\n",
    "    gx = yn\n",
    "    return np.sum(fx != gx) / n2"
   ]
  },
  {
   "cell_type": "code",
   "execution_count": 258,
   "metadata": {},
   "outputs": [
    {
     "data": {
      "text/plain": [
       "10.622"
      ]
     },
     "execution_count": 258,
     "metadata": {},
     "output_type": "execute_result"
    }
   ],
   "source": [
    "# HW1 Q7\n",
    "n = 10\n",
    "it = [run(n)[2] for i in tqdm(range(1000))]\n",
    "np.mean(it)"
   ]
  },
  {
   "cell_type": "code",
   "execution_count": 285,
   "metadata": {},
   "outputs": [
    {
     "data": {
      "text/plain": [
       "0.18440969999999998"
      ]
     },
     "execution_count": 285,
     "metadata": {},
     "output_type": "execute_result"
    }
   ],
   "source": [
    "# HW1 Q8\n",
    "n1 = 10\n",
    "n2 = 20000\n",
    "\n",
    "prob = [run_prob(n1,n2) for i in tqdm(range(1000))]\n",
    "np.mean(prob)"
   ]
  },
  {
   "cell_type": "code",
   "execution_count": 289,
   "metadata": {},
   "outputs": [
    {
     "name": "stderr",
     "output_type": "stream",
     "text": [
      "100%|██████████| 1000/1000 [00:26<00:00, 37.13it/s]\n"
     ]
    },
    {
     "data": {
      "text/plain": [
       "115.444"
      ]
     },
     "execution_count": 289,
     "metadata": {},
     "output_type": "execute_result"
    }
   ],
   "source": [
    "# HW1 Q9\n",
    "n = 100\n",
    "it = [run(n)[2] for i in tqdm(range(1000))]\n",
    "np.mean(it)"
   ]
  },
  {
   "cell_type": "code",
   "execution_count": 291,
   "metadata": {},
   "outputs": [
    {
     "name": "stderr",
     "output_type": "stream",
     "text": [
      "100%|██████████| 1000/1000 [00:29<00:00, 34.24it/s]\n"
     ]
    },
    {
     "data": {
      "text/plain": [
       "0.022872700000000003"
      ]
     },
     "execution_count": 291,
     "metadata": {},
     "output_type": "execute_result"
    }
   ],
   "source": [
    "# HW1 10\n",
    "n1 = 100\n",
    "n2 = 20000\n",
    "\n",
    "prob = [run_prob(n1,n2) for i in tqdm(range(1000))]\n",
    "np.mean(prob)"
   ]
  }
 ],
 "metadata": {
  "kernelspec": {
   "display_name": "Python 3",
   "language": "python",
   "name": "python3"
  },
  "language_info": {
   "codemirror_mode": {
    "name": "ipython",
    "version": 3
   },
   "file_extension": ".py",
   "mimetype": "text/x-python",
   "name": "python",
   "nbconvert_exporter": "python",
   "pygments_lexer": "ipython3",
   "version": "3.6.4"
  }
 },
 "nbformat": 4,
 "nbformat_minor": 2
}
